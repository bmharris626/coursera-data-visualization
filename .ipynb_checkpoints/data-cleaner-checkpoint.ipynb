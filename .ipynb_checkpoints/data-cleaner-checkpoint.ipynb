{
 "cells": [
  {
   "cell_type": "code",
   "execution_count": 85,
   "metadata": {
    "collapsed": true
   },
   "outputs": [],
   "source": [
    "import pandas as pd\n",
    "import numpy as np\n",
    "from pathlib import Path\n",
    "import json"
   ]
  },
  {
   "cell_type": "code",
   "execution_count": 30,
   "metadata": {},
   "outputs": [
    {
     "name": "stdout",
     "output_type": "stream",
     "text": [
      "global-firms.csv                   world-cities-and-global-firms.csv\r\n"
     ]
    }
   ],
   "source": [
    "%ls \"programming-assignment-2/data\""
   ]
  },
  {
   "cell_type": "code",
   "execution_count": 54,
   "metadata": {},
   "outputs": [],
   "source": [
    "df = pd.read_csv(\"programming-assignment-2/data/world-cities-and-global-firms.csv\", header=1, index_col=0)\n",
    "df.drop(df.columns[-1], axis=1, inplace=True)\n",
    "df.rename(columns={\"ST\": \"SC\"}, inplace=True)\n",
    "\n",
    "firms = pd.read_csv(\"programming-assignment-2/data/global-firms.csv\", header=0)"
   ]
  },
  {
   "cell_type": "code",
   "execution_count": 110,
   "metadata": {},
   "outputs": [
    {
     "data": {
      "text/plain": [
       "(           KP  CL  EY  AA  PW  GR  DM  LH  SS  TH ...  DW  GJ  HH  JD  MC  SQ  \\\n",
       " CITIES                                            ...                           \n",
       " Amsterdam   3   3   1   1   3   1   1   1   1   1 ...   0   0   0   0   0   0   \n",
       " Atlanta     3   3   2   2   2   0   0   0   0   1 ...   0   0   0   3   0   0   \n",
       " Bangkok     1   1   1   2   2   1   1   0   1   1 ...   0   1   0   0   0   0   \n",
       " Barcelona   1   1   1   1   2   1   1   1   1   1 ...   0   0   0   0   0   0   \n",
       " Beijing     1   1   1   1   2   0   1   0   1   1 ...   0   1   0   0   0   0   \n",
       " \n",
       "            WE  AO  CC  FF  \n",
       " CITIES                     \n",
       " Amsterdam   0   0   1   0  \n",
       " Atlanta     0   0   0   0  \n",
       " Bangkok     0   0   1   1  \n",
       " Barcelona   0   0   1   1  \n",
       " Beijing     0   1   0   1  \n",
       " \n",
       " [5 rows x 46 columns],   Abbr                         Name     Category\n",
       " 0   KP                         KPMG  Accountancy\n",
       " 1   CL            Coopers & Lybrand  Accountancy\n",
       " 2   EY  Ernst & Young International  Accountancy\n",
       " 3   AA              Arthur Andersen  Accountancy\n",
       " 4   PW             Price Waterhouse  Accountancy)"
      ]
     },
     "execution_count": 110,
     "metadata": {},
     "output_type": "execute_result"
    }
   ],
   "source": [
    "df.head(), firms.head()"
   ]
  },
  {
   "cell_type": "code",
   "execution_count": 124,
   "metadata": {
    "collapsed": true
   },
   "outputs": [],
   "source": [
    "categories = {\n",
    "    \"Accountancy\": \"#800000\",\n",
    "    \"Advertising\": \"#ffff00\",\n",
    "    \"Banking and Finance\": \"#707030\",\n",
    "    \"Law\": \"#900090\"\n",
    "}"
   ]
  },
  {
   "cell_type": "code",
   "execution_count": 132,
   "metadata": {},
   "outputs": [],
   "source": [
    "nodes, edges = list(), list()\n",
    "for column in df.columns:\n",
    "    node = dict()\n",
    "    node[\"id\"] = column\n",
    "    row = firms[firms[\"Abbr\"] == column].values[0]\n",
    "    node[\"title\"] = row[1]\n",
    "    node[\"color\"] = categories[row[2]]\n",
    "    nodes.append(node)\n",
    "n = 0\n",
    "for city, row in df.iterrows():\n",
    "    node = dict()\n",
    "    ci = city.replace(\",\", \"\").replace(\" \", \"_\").lower()\n",
    "    for i, value in enumerate(row):\n",
    "        if value > 0:\n",
    "            edge = dict()\n",
    "            edge[\"to\"] = df.columns[i]\n",
    "            edge[\"from\"] = ci\n",
    "            edges.append(edge)\n",
    "    node[\"id\"] = ci\n",
    "    node[\"title\"] = city\n",
    "    node[\"color\"] = \"#328CC1\"\n",
    "    nodes.append(node)\n",
    "    n += 1"
   ]
  },
  {
   "cell_type": "code",
   "execution_count": 133,
   "metadata": {},
   "outputs": [],
   "source": [
    "with open(\"programming-assignment-2/data/network-data.json\", \"w\") as fout:\n",
    "    fout.write(json.dumps({\"nodes\": nodes, \"edges\": edges}))"
   ]
  },
  {
   "cell_type": "code",
   "execution_count": 129,
   "metadata": {},
   "outputs": [
    {
     "data": {
      "text/plain": [
       "[{'color': '#800000', 'id': 'KP', 'label': 'KPMG'},\n",
       " {'color': '#800000', 'id': 'CL', 'label': 'Coopers & Lybrand'},\n",
       " {'color': '#800000', 'id': 'EY', 'label': 'Ernst & Young International'},\n",
       " {'color': '#800000', 'id': 'AA', 'label': 'Arthur Andersen'},\n",
       " {'color': '#800000', 'id': 'PW', 'label': 'Price Waterhouse'},\n",
       " {'color': '#ffff00', 'id': 'GR', 'label': 'Grey Worldwide'},\n",
       " {'color': '#ffff00', 'id': 'DM', 'label': 'DMB&B (MacManus Group)'},\n",
       " {'color': '#ffff00', 'id': 'LH', 'label': 'Lowe Howard -Spink'},\n",
       " {'color': '#ffff00', 'id': 'SS', 'label': 'Saatchi and Saatchi'},\n",
       " {'color': '#ffff00', 'id': 'TH', 'label': 'JWT (Thompson)'},\n",
       " {'color': '#ffff00', 'id': 'OM', 'label': 'Ogilvy & Mather Direct Worldwide'},\n",
       " {'color': '#ffff00', 'id': 'DE', 'label': 'Dentsu'},\n",
       " {'color': '#ffff00', 'id': 'YR', 'label': 'Young & Rubicam'},\n",
       " {'color': '#ffff00', 'id': 'TM', 'label': 'TMP'},\n",
       " {'color': '#ffff00', 'id': 'PU', 'label': 'Publicis'},\n",
       " {'color': '#ffff00', 'id': 'AM', 'label': 'Abbott Mead Vickers (BBDO)'},\n",
       " {'color': '#707030', 'id': 'HS', 'label': 'HSBC'},\n",
       " {'color': '#707030', 'id': 'BA', 'label': 'Barclays'},\n",
       " {'color': '#707030', 'id': 'NW', 'label': 'NatWest Group'},\n",
       " {'color': '#707030', 'id': 'SC', 'label': 'Standard Chartered Group'},\n",
       " {'color': '#707030', 'id': 'CR', 'label': 'Creditanstalt-Bankverein'},\n",
       " {'color': '#707030', 'id': 'DR', 'label': 'Dresdner Bank Group'},\n",
       " {'color': '#707030', 'id': 'MO', 'label': 'J P Morgan'},\n",
       " {'color': '#707030',\n",
       "  'id': 'PA',\n",
       "  'label': 'Compagnie Financière de Paribas SA'},\n",
       " {'color': '#707030', 'id': 'CS', 'label': 'Credit Suisse'},\n",
       " {'color': '#707030', 'id': 'BB', 'label': 'BBV Group'},\n",
       " {'color': '#707030', 'id': 'BT', 'label': \"Banker's Trust\"},\n",
       " {'color': '#707030', 'id': 'UB', 'label': 'UBS'},\n",
       " {'color': '#707030', 'id': 'AB', 'label': 'ABN-AMRO'},\n",
       " {'color': '#707030', 'id': 'CB', 'label': 'Citibank'},\n",
       " {'color': '#900090', 'id': 'BM', 'label': 'Baker & McKenzie'},\n",
       " {'color': '#900090', 'id': 'WC', 'label': 'White & Case'},\n",
       " {'color': '#900090', 'id': 'LL', 'label': 'Leboeuf, Lamb, Greene & MacRae'},\n",
       " {'color': '#900090', 'id': 'CO', 'label': 'Coudert Brothers'},\n",
       " {'color': '#900090', 'id': 'SK', 'label': 'Skadden Arps'},\n",
       " {'color': '#900090', 'id': 'BC', 'label': 'Bryan Cave'},\n",
       " {'color': '#900090', 'id': 'DW', 'label': 'Dorsey & Whitney'},\n",
       " {'color': '#900090', 'id': 'GJ', 'label': 'Graham & James'},\n",
       " {'color': '#900090', 'id': 'HH', 'label': 'Hogan & Hartson'},\n",
       " {'color': '#900090', 'id': 'JD', 'label': 'Jones, Day, Reavis & Pogue'},\n",
       " {'color': '#900090',\n",
       "  'id': 'MC',\n",
       "  'label': 'Miller, Canfield, Paddock & Stone'},\n",
       " {'color': '#900090', 'id': 'SQ', 'label': 'Squire, Sanders & Dempsey'},\n",
       " {'color': '#900090',\n",
       "  'id': 'WE',\n",
       "  'label': 'Wilson, Elser, Moskowitz, Edelman & Dicker'},\n",
       " {'color': '#900090', 'id': 'AO', 'label': 'Allen & Overy'},\n",
       " {'color': '#900090', 'id': 'CC', 'label': 'Clifford Chance'},\n",
       " {'color': '#900090', 'id': 'FF', 'label': 'Freshfields'},\n",
       " {'color': '#328CC1', 'id': 'amsterdam', 'label': 'Amsterdam'},\n",
       " {'color': '#328CC1', 'id': 'atlanta', 'label': 'Atlanta'},\n",
       " {'color': '#328CC1', 'id': 'bangkok', 'label': 'Bangkok'},\n",
       " {'color': '#328CC1', 'id': 'barcelona', 'label': 'Barcelona'},\n",
       " {'color': '#328CC1', 'id': 'beijing', 'label': 'Beijing'},\n",
       " {'color': '#328CC1', 'id': 'berlin', 'label': 'Berlin'},\n",
       " {'color': '#328CC1', 'id': 'boston', 'label': 'Boston'},\n",
       " {'color': '#328CC1', 'id': 'brussels', 'label': 'Brussels'},\n",
       " {'color': '#328CC1', 'id': 'budapest', 'label': 'Budapest'},\n",
       " {'color': '#328CC1', 'id': 'buenos_aires', 'label': 'Buenos Aires'},\n",
       " {'color': '#328CC1', 'id': 'caracas', 'label': 'Caracas'},\n",
       " {'color': '#328CC1', 'id': 'chicago', 'label': 'Chicago'},\n",
       " {'color': '#328CC1', 'id': 'copenhagen', 'label': 'Copenhagen'},\n",
       " {'color': '#328CC1', 'id': 'dallas', 'label': 'Dallas'},\n",
       " {'color': '#328CC1', 'id': 'dusseldorf', 'label': 'Dusseldorf'},\n",
       " {'color': '#328CC1', 'id': 'frankfurt', 'label': 'Frankfurt'},\n",
       " {'color': '#328CC1', 'id': 'geneva', 'label': 'Geneva'},\n",
       " {'color': '#328CC1', 'id': 'hamburg', 'label': 'Hamburg'},\n",
       " {'color': '#328CC1', 'id': 'hong_kong', 'label': 'Hong Kong'},\n",
       " {'color': '#328CC1', 'id': 'houston', 'label': 'Houston'},\n",
       " {'color': '#328CC1', 'id': 'istanbul', 'label': 'Istanbul'},\n",
       " {'color': '#328CC1', 'id': 'jakarta', 'label': 'Jakarta'},\n",
       " {'color': '#328CC1', 'id': 'johannesburg', 'label': 'Johannesburg'},\n",
       " {'color': '#328CC1', 'id': 'kuala_lumpur', 'label': 'Kuala Lumpur'},\n",
       " {'color': '#328CC1', 'id': 'london', 'label': 'London'},\n",
       " {'color': '#328CC1', 'id': 'los_angeles', 'label': 'Los Angeles'},\n",
       " {'color': '#328CC1', 'id': 'madrid', 'label': 'Madrid'},\n",
       " {'color': '#328CC1', 'id': 'manila', 'label': 'Manila'},\n",
       " {'color': '#328CC1', 'id': 'melbourne', 'label': 'Melbourne'},\n",
       " {'color': '#328CC1', 'id': 'mexico_city', 'label': 'Mexico City'},\n",
       " {'color': '#328CC1', 'id': 'miami', 'label': 'Miami'},\n",
       " {'color': '#328CC1', 'id': 'milan', 'label': 'Milan'},\n",
       " {'color': '#328CC1', 'id': 'minneapolis', 'label': 'Minneapolis'},\n",
       " {'color': '#328CC1', 'id': 'montreal', 'label': 'Montreal'},\n",
       " {'color': '#328CC1', 'id': 'moscow', 'label': 'Moscow'},\n",
       " {'color': '#328CC1', 'id': 'munich', 'label': 'Munich'},\n",
       " {'color': '#328CC1', 'id': 'new_york', 'label': 'New York'},\n",
       " {'color': '#328CC1', 'id': 'osaka', 'label': 'Osaka'},\n",
       " {'color': '#328CC1', 'id': 'paris', 'label': 'Paris'},\n",
       " {'color': '#328CC1', 'id': 'prague', 'label': 'Prague'},\n",
       " {'color': '#328CC1', 'id': 'rome', 'label': 'Rome'},\n",
       " {'color': '#328CC1', 'id': 'san_francisco', 'label': 'San Francisco'},\n",
       " {'color': '#328CC1', 'id': 'sao_paulo', 'label': 'Sao Paulo'},\n",
       " {'color': '#328CC1', 'id': 'santiago', 'label': 'Santiago'},\n",
       " {'color': '#328CC1', 'id': 'seoul', 'label': 'Seoul'},\n",
       " {'color': '#328CC1', 'id': 'shanghai', 'label': 'Shanghai'},\n",
       " {'color': '#328CC1', 'id': 'singapore', 'label': 'Singapore'},\n",
       " {'color': '#328CC1', 'id': 'stockholm', 'label': 'Stockholm'},\n",
       " {'color': '#328CC1', 'id': 'sydney', 'label': 'Sydney'},\n",
       " {'color': '#328CC1', 'id': 'taipei', 'label': 'Taipei'},\n",
       " {'color': '#328CC1', 'id': 'tokyo', 'label': 'Tokyo'},\n",
       " {'color': '#328CC1', 'id': 'toronto', 'label': 'Toronto'},\n",
       " {'color': '#328CC1', 'id': 'warsaw', 'label': 'Warsaw'},\n",
       " {'color': '#328CC1', 'id': 'washington_dc', 'label': 'Washington, DC'},\n",
       " {'color': '#328CC1', 'id': 'zurich', 'label': 'Zurich'}]"
      ]
     },
     "execution_count": 129,
     "metadata": {},
     "output_type": "execute_result"
    }
   ],
   "source": [
    "nodes"
   ]
  },
  {
   "cell_type": "code",
   "execution_count": null,
   "metadata": {
    "collapsed": true
   },
   "outputs": [],
   "source": []
  }
 ],
 "metadata": {
  "kernelspec": {
   "display_name": "Python 3",
   "language": "python",
   "name": "python3"
  },
  "language_info": {
   "codemirror_mode": {
    "name": "ipython",
    "version": 3
   },
   "file_extension": ".py",
   "mimetype": "text/x-python",
   "name": "python",
   "nbconvert_exporter": "python",
   "pygments_lexer": "ipython3",
   "version": "3.5.4"
  }
 },
 "nbformat": 4,
 "nbformat_minor": 2
}
