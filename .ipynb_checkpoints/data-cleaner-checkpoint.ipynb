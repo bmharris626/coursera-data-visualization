{
 "cells": [
  {
   "cell_type": "code",
   "execution_count": 17,
   "metadata": {
    "collapsed": true
   },
   "outputs": [],
   "source": [
    "import pandas as pd\n",
    "import numpy as np\n",
    "from pathlib import Path\n",
    "import json"
   ]
  },
  {
   "cell_type": "code",
   "execution_count": 18,
   "metadata": {},
   "outputs": [
    {
     "name": "stdout",
     "output_type": "stream",
     "text": [
      " Volume in drive X is CIFS.HOMEDIR\n",
      " Volume Serial Number is 8036-5141\n",
      "\n",
      " Directory of X:\\dev\\coursera-data-visualization\\programming-assignment-2\\data\n",
      "\n",
      "02/06/2018  01:50 PM    <DIR>          .\n",
      "02/06/2018  01:50 PM    <DIR>          ..\n",
      "02/06/2018  01:49 PM             1,505 global-firms.csv\n",
      "02/06/2018  01:49 PM            16,262 network-data.js\n",
      "02/06/2018  02:12 PM            18,270 network-data.json\n",
      "02/06/2018  01:49 PM             6,124 world-cities-and-global-firms.csv\n",
      "               4 File(s)         42,161 bytes\n",
      "               2 Dir(s)  24,644,833,280 bytes free\n"
     ]
    }
   ],
   "source": [
    "%ls \"programming-assignment-2/data\""
   ]
  },
  {
   "cell_type": "code",
   "execution_count": 19,
   "metadata": {
    "collapsed": true
   },
   "outputs": [],
   "source": [
    "df = pd.read_csv(\"programming-assignment-2/data/world-cities-and-global-firms.csv\", header=1, index_col=0)\n",
    "df.drop(df.columns[-1], axis=1, inplace=True)\n",
    "df.rename(columns={\"ST\": \"SC\"}, inplace=True)\n",
    "\n",
    "firms = pd.read_csv(\"programming-assignment-2/data/global-firms.csv\", header=0)"
   ]
  },
  {
   "cell_type": "code",
   "execution_count": 20,
   "metadata": {},
   "outputs": [
    {
     "data": {
      "text/plain": [
       "(           KP  CL  EY  AA  PW  GR  DM  LH  SS  TH ...  DW  GJ  HH  JD  MC  SQ  \\\n",
       " CITIES                                            ...                           \n",
       " Amsterdam   3   3   1   1   3   1   1   1   1   1 ...   0   0   0   0   0   0   \n",
       " Atlanta     3   3   2   2   2   0   0   0   0   1 ...   0   0   0   3   0   0   \n",
       " Bangkok     1   1   1   2   2   1   1   0   1   1 ...   0   1   0   0   0   0   \n",
       " Barcelona   1   1   1   1   2   1   1   1   1   1 ...   0   0   0   0   0   0   \n",
       " Beijing     1   1   1   1   2   0   1   0   1   1 ...   0   1   0   0   0   0   \n",
       " \n",
       "            WE  AO  CC  FF  \n",
       " CITIES                     \n",
       " Amsterdam   0   0   1   0  \n",
       " Atlanta     0   0   0   0  \n",
       " Bangkok     0   0   1   1  \n",
       " Barcelona   0   0   1   1  \n",
       " Beijing     0   1   0   1  \n",
       " \n",
       " [5 rows x 46 columns],   Abbr                         Name     Category\n",
       " 0   KP                         KPMG  Accountancy\n",
       " 1   CL            Coopers & Lybrand  Accountancy\n",
       " 2   EY  Ernst & Young International  Accountancy\n",
       " 3   AA              Arthur Andersen  Accountancy\n",
       " 4   PW             Price Waterhouse  Accountancy)"
      ]
     },
     "execution_count": 20,
     "metadata": {},
     "output_type": "execute_result"
    }
   ],
   "source": [
    "df.head(), firms.head()"
   ]
  },
  {
   "cell_type": "code",
   "execution_count": 21,
   "metadata": {
    "collapsed": true
   },
   "outputs": [],
   "source": [
    "categories = {\n",
    "    \"Accountancy\": 1,\n",
    "    \"Advertising\": 2,\n",
    "    \"Banking and Finance\": 3,\n",
    "    \"Law\": 4\n",
    "}"
   ]
  },
  {
   "cell_type": "code",
   "execution_count": 28,
   "metadata": {
    "collapsed": true
   },
   "outputs": [],
   "source": [
    "nodes, edges = list(), list()\n",
    "for column in df.columns:\n",
    "    node = dict()\n",
    "    node[\"id\"] = column\n",
    "    row = firms[firms[\"Abbr\"] == column].values[0]\n",
    "    node[\"group\"] = categories[row[2]]\n",
    "    nodes.append(node)\n",
    "for city, row in df.iterrows():\n",
    "    node = dict()\n",
    "    ci = city.replace(\",\", \"\").replace(\" \", \"_\").lower()\n",
    "    for i, value in enumerate(row):\n",
    "        if value > 0:\n",
    "            edge = dict()\n",
    "            edge[\"source\"] = df.columns[i]\n",
    "            edge[\"target\"] = city.replace(\" \", \"\")\n",
    "            edge[\"value\"] = int(value)\n",
    "            edges.append(edge)\n",
    "    node[\"id\"] = city.replace(\" \", \"\")\n",
    "    node[\"group\"] = 0\n",
    "    nodes.append(node)"
   ]
  },
  {
   "cell_type": "code",
   "execution_count": 29,
   "metadata": {
    "collapsed": true
   },
   "outputs": [],
   "source": [
    "with open(\"programming-assignment-2/data/network-data.json\", \"w\") as fout:\n",
    "    fout.write(json.dumps({\"nodes\": nodes, \"links\": edges}))"
   ]
  },
  {
   "cell_type": "code",
   "execution_count": null,
   "metadata": {
    "collapsed": true
   },
   "outputs": [],
   "source": []
  }
 ],
 "metadata": {
  "kernelspec": {
   "display_name": "Python 3",
   "language": "python",
   "name": "python3"
  },
  "language_info": {
   "codemirror_mode": {
    "name": "ipython",
    "version": 3
   },
   "file_extension": ".py",
   "mimetype": "text/x-python",
   "name": "python",
   "nbconvert_exporter": "python",
   "pygments_lexer": "ipython3",
   "version": "3.6.1"
  }
 },
 "nbformat": 4,
 "nbformat_minor": 2
}
