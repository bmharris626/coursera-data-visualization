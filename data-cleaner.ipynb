{
 "cells": [
  {
   "cell_type": "code",
   "execution_count": 55,
   "metadata": {},
   "outputs": [],
   "source": [
    "import pandas as pd\n",
    "import numpy as np\n",
    "from pathlib import Path"
   ]
  },
  {
   "cell_type": "code",
   "execution_count": 5,
   "metadata": {},
   "outputs": [
    {
     "name": "stdout",
     "output_type": "stream",
     "text": [
      " Volume in drive E has no label.\n",
      " Volume Serial Number is 0000-0000\n",
      "\n",
      " Directory of E:\\dev\\coursera-data-visualization\\programming-assignment-1\\data\n",
      "\n",
      "01/27/2018  08:28 PM    <DIR>          .\n",
      "01/27/2018  08:28 PM    <DIR>          ..\n",
      "01/27/2018  08:28 PM            12,116 global_monthly-seasonal-annual.csv\n",
      "01/27/2018  08:32 PM            12,083 nothern-hemisphere_monthly-seasonal-annual.csv\n",
      "01/27/2018  08:34 PM            12,177 southern-hemisphere_monthly-seasonal-annual.csv\n",
      "01/27/2018  08:35 PM             9,642 zonal_annual.csv\n",
      "               4 File(s)         46,018 bytes\n",
      "               2 Dir(s)  126,792,761,344 bytes free\n"
     ]
    }
   ],
   "source": [
    "%ls \"programming-assignment-1/data\""
   ]
  },
  {
   "cell_type": "code",
   "execution_count": 77,
   "metadata": {},
   "outputs": [],
   "source": [
    "for path in Path(\"programming-assignment-1/data\").glob(\"*.csv\"):\n",
    "    header = 1\n",
    "    if path.name == \"zonal_annual.csv\": header = 0\n",
    "    df = pd.read_csv(path, header = header).replace(\"***\", np.nan).set_index(\"Year\")\n",
    "    file_name = str(path.parents[0]) + \"\\\\\" + path.name.split(\"_\")[0].replace(\"-\", \"_\") + \".js\"\n",
    "    df.to_json(file_name, orient = 'index')"
   ]
  }
 ],
 "metadata": {
  "kernelspec": {
   "display_name": "Python [default]",
   "language": "python",
   "name": "python3"
  },
  "language_info": {
   "codemirror_mode": {
    "name": "ipython",
    "version": 3
   },
   "file_extension": ".py",
   "mimetype": "text/x-python",
   "name": "python",
   "nbconvert_exporter": "python",
   "pygments_lexer": "ipython3",
   "version": "3.5.4"
  }
 },
 "nbformat": 4,
 "nbformat_minor": 2
}
