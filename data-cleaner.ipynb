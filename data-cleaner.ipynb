{
 "cells": [
  {
   "cell_type": "code",
   "execution_count": 1,
   "metadata": {
    "collapsed": true
   },
   "outputs": [],
   "source": [
    "import pandas as pd\n",
    "import numpy as np\n",
    "from pathlib import Path\n",
    "import json"
   ]
  },
  {
   "cell_type": "code",
   "execution_count": 2,
   "metadata": {},
   "outputs": [
    {
     "name": "stdout",
     "output_type": "stream",
     "text": [
      "global-firms.csv                   network-data.json\r\n",
      "network-data.js                    world-cities-and-global-firms.csv\r\n"
     ]
    }
   ],
   "source": [
    "%ls \"programming-assignment-2/data\""
   ]
  },
  {
   "cell_type": "code",
   "execution_count": 3,
   "metadata": {
    "collapsed": true
   },
   "outputs": [],
   "source": [
    "df = pd.read_csv(\"programming-assignment-2/data/world-cities-and-global-firms.csv\", header=1, index_col=0)\n",
    "df.drop(df.columns[-1], axis=1, inplace=True)\n",
    "df.rename(columns={\"ST\": \"SC\"}, inplace=True)\n",
    "\n",
    "firms = pd.read_csv(\"programming-assignment-2/data/global-firms.csv\", header=0)"
   ]
  },
  {
   "cell_type": "code",
   "execution_count": 4,
   "metadata": {},
   "outputs": [
    {
     "data": {
      "text/plain": [
       "(           KP  CL  EY  AA  PW  GR  DM  LH  SS  TH ...  DW  GJ  HH  JD  MC  SQ  \\\n",
       " CITIES                                            ...                           \n",
       " Amsterdam   3   3   1   1   3   1   1   1   1   1 ...   0   0   0   0   0   0   \n",
       " Atlanta     3   3   2   2   2   0   0   0   0   1 ...   0   0   0   3   0   0   \n",
       " Bangkok     1   1   1   2   2   1   1   0   1   1 ...   0   1   0   0   0   0   \n",
       " Barcelona   1   1   1   1   2   1   1   1   1   1 ...   0   0   0   0   0   0   \n",
       " Beijing     1   1   1   1   2   0   1   0   1   1 ...   0   1   0   0   0   0   \n",
       " \n",
       "            WE  AO  CC  FF  \n",
       " CITIES                     \n",
       " Amsterdam   0   0   1   0  \n",
       " Atlanta     0   0   0   0  \n",
       " Bangkok     0   0   1   1  \n",
       " Barcelona   0   0   1   1  \n",
       " Beijing     0   1   0   1  \n",
       " \n",
       " [5 rows x 46 columns],   Abbr                         Name     Category\n",
       " 0   KP                         KPMG  Accountancy\n",
       " 1   CL            Coopers & Lybrand  Accountancy\n",
       " 2   EY  Ernst & Young International  Accountancy\n",
       " 3   AA              Arthur Andersen  Accountancy\n",
       " 4   PW             Price Waterhouse  Accountancy)"
      ]
     },
     "execution_count": 4,
     "metadata": {},
     "output_type": "execute_result"
    }
   ],
   "source": [
    "df.head(), firms.head()"
   ]
  },
  {
   "cell_type": "code",
   "execution_count": 5,
   "metadata": {
    "collapsed": true
   },
   "outputs": [],
   "source": [
    "categories = {\n",
    "    \"Accountancy\": \"#800000\",\n",
    "    \"Advertising\": \"#ffff00\",\n",
    "    \"Banking and Finance\": \"#707030\",\n",
    "    \"Law\": \"#900090\"\n",
    "}"
   ]
  },
  {
   "cell_type": "code",
   "execution_count": 6,
   "metadata": {
    "collapsed": true
   },
   "outputs": [],
   "source": [
    "nodes, edges = list(), list()\n",
    "for column in df.columns:\n",
    "    node = dict()\n",
    "    node[\"id\"] = column\n",
    "    row = firms[firms[\"Abbr\"] == column].values[0]\n",
    "    node[\"title\"] = row[1]\n",
    "    node[\"color\"] = categories[row[2]]\n",
    "    nodes.append(node)\n",
    "n = 0\n",
    "for city, row in df.iterrows():\n",
    "    node = dict()\n",
    "    ci = city.replace(\",\", \"\").replace(\" \", \"_\").lower()\n",
    "    for i, value in enumerate(row):\n",
    "        if value == 3:\n",
    "            edge = dict()\n",
    "            edge[\"to\"] = df.columns[i]\n",
    "            edge[\"from\"] = ci\n",
    "            edges.append(edge)\n",
    "    node[\"id\"] = ci\n",
    "    node[\"title\"] = city\n",
    "    node[\"color\"] = \"#328CC1\"\n",
    "    nodes.append(node)\n",
    "    n += 1"
   ]
  },
  {
   "cell_type": "code",
   "execution_count": 7,
   "metadata": {
    "collapsed": true
   },
   "outputs": [],
   "source": [
    "with open(\"programming-assignment-2/data/network-data.json\", \"w\") as fout:\n",
    "    fout.write(json.dumps({\"nodes\": nodes, \"edges\": edges}))"
   ]
  },
  {
   "cell_type": "code",
   "execution_count": 8,
   "metadata": {},
   "outputs": [
    {
     "data": {
      "text/plain": [
       "[{'color': '#800000', 'id': 'KP', 'title': 'KPMG'},\n",
       " {'color': '#800000', 'id': 'CL', 'title': 'Coopers & Lybrand'},\n",
       " {'color': '#800000', 'id': 'EY', 'title': 'Ernst & Young International'},\n",
       " {'color': '#800000', 'id': 'AA', 'title': 'Arthur Andersen'},\n",
       " {'color': '#800000', 'id': 'PW', 'title': 'Price Waterhouse'},\n",
       " {'color': '#ffff00', 'id': 'GR', 'title': 'Grey Worldwide'},\n",
       " {'color': '#ffff00', 'id': 'DM', 'title': 'DMB&B (MacManus Group)'},\n",
       " {'color': '#ffff00', 'id': 'LH', 'title': 'Lowe Howard -Spink'},\n",
       " {'color': '#ffff00', 'id': 'SS', 'title': 'Saatchi and Saatchi'},\n",
       " {'color': '#ffff00', 'id': 'TH', 'title': 'JWT (Thompson)'},\n",
       " {'color': '#ffff00', 'id': 'OM', 'title': 'Ogilvy & Mather Direct Worldwide'},\n",
       " {'color': '#ffff00', 'id': 'DE', 'title': 'Dentsu'},\n",
       " {'color': '#ffff00', 'id': 'YR', 'title': 'Young & Rubicam'},\n",
       " {'color': '#ffff00', 'id': 'TM', 'title': 'TMP'},\n",
       " {'color': '#ffff00', 'id': 'PU', 'title': 'Publicis'},\n",
       " {'color': '#ffff00', 'id': 'AM', 'title': 'Abbott Mead Vickers (BBDO)'},\n",
       " {'color': '#707030', 'id': 'HS', 'title': 'HSBC'},\n",
       " {'color': '#707030', 'id': 'BA', 'title': 'Barclays'},\n",
       " {'color': '#707030', 'id': 'NW', 'title': 'NatWest Group'},\n",
       " {'color': '#707030', 'id': 'SC', 'title': 'Standard Chartered Group'},\n",
       " {'color': '#707030', 'id': 'CR', 'title': 'Creditanstalt-Bankverein'},\n",
       " {'color': '#707030', 'id': 'DR', 'title': 'Dresdner Bank Group'},\n",
       " {'color': '#707030', 'id': 'MO', 'title': 'J P Morgan'},\n",
       " {'color': '#707030',\n",
       "  'id': 'PA',\n",
       "  'title': 'Compagnie Financière de Paribas SA'},\n",
       " {'color': '#707030', 'id': 'CS', 'title': 'Credit Suisse'},\n",
       " {'color': '#707030', 'id': 'BB', 'title': 'BBV Group'},\n",
       " {'color': '#707030', 'id': 'BT', 'title': \"Banker's Trust\"},\n",
       " {'color': '#707030', 'id': 'UB', 'title': 'UBS'},\n",
       " {'color': '#707030', 'id': 'AB', 'title': 'ABN-AMRO'},\n",
       " {'color': '#707030', 'id': 'CB', 'title': 'Citibank'},\n",
       " {'color': '#900090', 'id': 'BM', 'title': 'Baker & McKenzie'},\n",
       " {'color': '#900090', 'id': 'WC', 'title': 'White & Case'},\n",
       " {'color': '#900090', 'id': 'LL', 'title': 'Leboeuf, Lamb, Greene & MacRae'},\n",
       " {'color': '#900090', 'id': 'CO', 'title': 'Coudert Brothers'},\n",
       " {'color': '#900090', 'id': 'SK', 'title': 'Skadden Arps'},\n",
       " {'color': '#900090', 'id': 'BC', 'title': 'Bryan Cave'},\n",
       " {'color': '#900090', 'id': 'DW', 'title': 'Dorsey & Whitney'},\n",
       " {'color': '#900090', 'id': 'GJ', 'title': 'Graham & James'},\n",
       " {'color': '#900090', 'id': 'HH', 'title': 'Hogan & Hartson'},\n",
       " {'color': '#900090', 'id': 'JD', 'title': 'Jones, Day, Reavis & Pogue'},\n",
       " {'color': '#900090',\n",
       "  'id': 'MC',\n",
       "  'title': 'Miller, Canfield, Paddock & Stone'},\n",
       " {'color': '#900090', 'id': 'SQ', 'title': 'Squire, Sanders & Dempsey'},\n",
       " {'color': '#900090',\n",
       "  'id': 'WE',\n",
       "  'title': 'Wilson, Elser, Moskowitz, Edelman & Dicker'},\n",
       " {'color': '#900090', 'id': 'AO', 'title': 'Allen & Overy'},\n",
       " {'color': '#900090', 'id': 'CC', 'title': 'Clifford Chance'},\n",
       " {'color': '#900090', 'id': 'FF', 'title': 'Freshfields'},\n",
       " {'color': '#328CC1', 'id': 'amsterdam', 'title': 'Amsterdam'},\n",
       " {'color': '#328CC1', 'id': 'atlanta', 'title': 'Atlanta'},\n",
       " {'color': '#328CC1', 'id': 'bangkok', 'title': 'Bangkok'},\n",
       " {'color': '#328CC1', 'id': 'barcelona', 'title': 'Barcelona'},\n",
       " {'color': '#328CC1', 'id': 'beijing', 'title': 'Beijing'},\n",
       " {'color': '#328CC1', 'id': 'berlin', 'title': 'Berlin'},\n",
       " {'color': '#328CC1', 'id': 'boston', 'title': 'Boston'},\n",
       " {'color': '#328CC1', 'id': 'brussels', 'title': 'Brussels'},\n",
       " {'color': '#328CC1', 'id': 'budapest', 'title': 'Budapest'},\n",
       " {'color': '#328CC1', 'id': 'buenos_aires', 'title': 'Buenos Aires'},\n",
       " {'color': '#328CC1', 'id': 'caracas', 'title': 'Caracas'},\n",
       " {'color': '#328CC1', 'id': 'chicago', 'title': 'Chicago'},\n",
       " {'color': '#328CC1', 'id': 'copenhagen', 'title': 'Copenhagen'},\n",
       " {'color': '#328CC1', 'id': 'dallas', 'title': 'Dallas'},\n",
       " {'color': '#328CC1', 'id': 'dusseldorf', 'title': 'Dusseldorf'},\n",
       " {'color': '#328CC1', 'id': 'frankfurt', 'title': 'Frankfurt'},\n",
       " {'color': '#328CC1', 'id': 'geneva', 'title': 'Geneva'},\n",
       " {'color': '#328CC1', 'id': 'hamburg', 'title': 'Hamburg'},\n",
       " {'color': '#328CC1', 'id': 'hong_kong', 'title': 'Hong Kong'},\n",
       " {'color': '#328CC1', 'id': 'houston', 'title': 'Houston'},\n",
       " {'color': '#328CC1', 'id': 'istanbul', 'title': 'Istanbul'},\n",
       " {'color': '#328CC1', 'id': 'jakarta', 'title': 'Jakarta'},\n",
       " {'color': '#328CC1', 'id': 'johannesburg', 'title': 'Johannesburg'},\n",
       " {'color': '#328CC1', 'id': 'kuala_lumpur', 'title': 'Kuala Lumpur'},\n",
       " {'color': '#328CC1', 'id': 'london', 'title': 'London'},\n",
       " {'color': '#328CC1', 'id': 'los_angeles', 'title': 'Los Angeles'},\n",
       " {'color': '#328CC1', 'id': 'madrid', 'title': 'Madrid'},\n",
       " {'color': '#328CC1', 'id': 'manila', 'title': 'Manila'},\n",
       " {'color': '#328CC1', 'id': 'melbourne', 'title': 'Melbourne'},\n",
       " {'color': '#328CC1', 'id': 'mexico_city', 'title': 'Mexico City'},\n",
       " {'color': '#328CC1', 'id': 'miami', 'title': 'Miami'},\n",
       " {'color': '#328CC1', 'id': 'milan', 'title': 'Milan'},\n",
       " {'color': '#328CC1', 'id': 'minneapolis', 'title': 'Minneapolis'},\n",
       " {'color': '#328CC1', 'id': 'montreal', 'title': 'Montreal'},\n",
       " {'color': '#328CC1', 'id': 'moscow', 'title': 'Moscow'},\n",
       " {'color': '#328CC1', 'id': 'munich', 'title': 'Munich'},\n",
       " {'color': '#328CC1', 'id': 'new_york', 'title': 'New York'},\n",
       " {'color': '#328CC1', 'id': 'osaka', 'title': 'Osaka'},\n",
       " {'color': '#328CC1', 'id': 'paris', 'title': 'Paris'},\n",
       " {'color': '#328CC1', 'id': 'prague', 'title': 'Prague'},\n",
       " {'color': '#328CC1', 'id': 'rome', 'title': 'Rome'},\n",
       " {'color': '#328CC1', 'id': 'san_francisco', 'title': 'San Francisco'},\n",
       " {'color': '#328CC1', 'id': 'sao_paulo', 'title': 'Sao Paulo'},\n",
       " {'color': '#328CC1', 'id': 'santiago', 'title': 'Santiago'},\n",
       " {'color': '#328CC1', 'id': 'seoul', 'title': 'Seoul'},\n",
       " {'color': '#328CC1', 'id': 'shanghai', 'title': 'Shanghai'},\n",
       " {'color': '#328CC1', 'id': 'singapore', 'title': 'Singapore'},\n",
       " {'color': '#328CC1', 'id': 'stockholm', 'title': 'Stockholm'},\n",
       " {'color': '#328CC1', 'id': 'sydney', 'title': 'Sydney'},\n",
       " {'color': '#328CC1', 'id': 'taipei', 'title': 'Taipei'},\n",
       " {'color': '#328CC1', 'id': 'tokyo', 'title': 'Tokyo'},\n",
       " {'color': '#328CC1', 'id': 'toronto', 'title': 'Toronto'},\n",
       " {'color': '#328CC1', 'id': 'warsaw', 'title': 'Warsaw'},\n",
       " {'color': '#328CC1', 'id': 'washington_dc', 'title': 'Washington, DC'},\n",
       " {'color': '#328CC1', 'id': 'zurich', 'title': 'Zurich'}]"
      ]
     },
     "execution_count": 8,
     "metadata": {},
     "output_type": "execute_result"
    }
   ],
   "source": [
    "nodes"
   ]
  },
  {
   "cell_type": "code",
   "execution_count": 9,
   "metadata": {},
   "outputs": [
    {
     "data": {
      "text/plain": [
       "295"
      ]
     },
     "execution_count": 9,
     "metadata": {},
     "output_type": "execute_result"
    }
   ],
   "source": [
    "len(edges)"
   ]
  },
  {
   "cell_type": "code",
   "execution_count": 10,
   "metadata": {},
   "outputs": [
    {
     "data": {
      "text/plain": [
       "101"
      ]
     },
     "execution_count": 10,
     "metadata": {},
     "output_type": "execute_result"
    }
   ],
   "source": [
    "len(nodes)"
   ]
  },
  {
   "cell_type": "code",
   "execution_count": null,
   "metadata": {
    "collapsed": true
   },
   "outputs": [],
   "source": []
  }
 ],
 "metadata": {
  "kernelspec": {
   "display_name": "Python 3",
   "language": "python",
   "name": "python3"
  },
  "language_info": {
   "codemirror_mode": {
    "name": "ipython",
    "version": 3
   },
   "file_extension": ".py",
   "mimetype": "text/x-python",
   "name": "python",
   "nbconvert_exporter": "python",
   "pygments_lexer": "ipython3",
   "version": "3.5.4"
  }
 },
 "nbformat": 4,
 "nbformat_minor": 2
}
